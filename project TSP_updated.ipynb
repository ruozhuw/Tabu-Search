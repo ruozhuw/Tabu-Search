{
 "cells": [
  {
   "cell_type": "code",
   "execution_count": 1,
   "metadata": {},
   "outputs": [],
   "source": [
    "\n",
    "import numpy as np\n",
    "import networkx as nx\n",
    "import itertools\n",
    "import time\n",
    "import matplotlib.pyplot as plt\n",
    "import copy\n",
    "### Parameters of figures\n",
    "\n",
    "from pylab import rcParams"
   ]
  },
  {
   "cell_type": "code",
   "execution_count": 2,
   "metadata": {},
   "outputs": [
    {
     "name": "stdout",
     "output_type": "stream",
     "text": [
      "Here is the graph with 5 nodes we sampled\n"
     ]
    },
    {
     "data": {
      "image/png": "[encoded data removed]",
      "text/plain": [
       "<Figure size 432x288 with 1 Axes>"
      ]
     },
     "metadata": {},
     "output_type": "display_data"
    },
    {
     "name": "stdout",
     "output_type": "stream",
     "text": [
      "sample, (<networkx.classes.graph.Graph object at 0x122820ac0>, {0: (0.5891007334076902, 0.8150449588769378), 1: (0.9441139040298535, 0.9403693608068799), 2: (0.2242271106880035, 0.9827532168801224), 3: (0.8041152717612304, 0.5278762755574975), 4: (0.2313532044528721, 0.6750815061533408)})\n"
     ]
    }
   ],
   "source": [
    "# prep functions\n",
    "\n",
    "### Function that computes the distance in the plane between points (x_1,x_2) and (y_1,y_2)\n",
    "\n",
    "def compute_distance (x1,y1,x2,y2):\n",
    "    return ((x1-x2)**2+(y1-y2)**2)**(.5)\n",
    "    \n",
    "### Function that generates a graph with n random vertices on the plane and weights given by the euclidean distances between those points \n",
    "### Input: n= number of nodes; should_print=0/1 (1 to plot a picture of the instance, 0 otherwise)\n",
    "### Output: G = graph in NetworkX format, pos= coordinates of the points\n",
    "\n",
    "def twod_instance(n,should_print):\n",
    "    \n",
    "    G=nx.Graph()\n",
    "    lab=[]\n",
    "    pos={}\n",
    "\n",
    "\n",
    "    for i in range(0,n):\n",
    "        x=np.random.random_sample()\n",
    "        y=np.random.random_sample()\n",
    "        G.add_node(i,x=x,y=y)\n",
    "        pos[i]=(x,y)     # coordinates for drawing\n",
    "        lab.append(i)       # label for drawing\n",
    "\n",
    "# if should_print=1, we plot the graph\n",
    "\n",
    "    if should_print == 1:\n",
    "        print(\"Here is the graph with %d nodes we sampled\" % n)\n",
    "        \n",
    "        nx.draw_networkx_nodes(G,pos,node_size=200)\n",
    "        #nx.draw_networkx_labels(G,pos, node_size=100,label=lab)\n",
    "            \n",
    "        plt.show()\n",
    "    \n",
    "# assigning euclidean distances as weights\n",
    "\n",
    "    for i in range(0,n):\n",
    "        for j in range(i+1,n):\n",
    "            G.add_edge(i,j, weight=compute_distance(G._node[i]['x'],G._node[i]['y'],G._node[j]['x'],G._node[j]['y']))\n",
    "    return (G,pos)\n",
    "\n",
    "\n",
    "print(\"sample,\",twod_instance(5,1))\n",
    "\n"
   ]
  },
  {
   "cell_type": "code",
   "execution_count": 28,
   "metadata": {},
   "outputs": [],
   "source": [
    "## Compare: greedy\n",
    "def run_greedy_TSP(G,pos,should_print):   \n",
    "\n",
    "    start_time = time.time()\n",
    "    \n",
    "    n=G.number_of_nodes()\n",
    "    tour=[0]\n",
    "    nr_cities=0\n",
    "    length_tour=0\n",
    "\n",
    "\n",
    "    while nr_cities<n-1:\n",
    "        min_weight=999999\n",
    "        candidate=-1\n",
    "        for i in range(0,n):\n",
    "            if (i not in tour):\n",
    "                if G.edges[tour[nr_cities],i]['weight']< min_weight:\n",
    "                    min_weight=G.edges[tour[nr_cities],i]['weight']\n",
    "                    candidate=i\n",
    "        tour.append(candidate)\n",
    "        nr_cities=nr_cities+1\n",
    "        length_tour=length_tour+min_weight\n",
    "\n",
    "# don't forget we have to come back to the first node\n",
    "    \n",
    "    length_tour=length_tour+G.edges[0,tour[n-1]]['weight']\n",
    "    \n",
    "    final_time=time.time() - start_time\n",
    "\n",
    "# if should_print=1, we plot the tour\n",
    "    \n",
    "\n",
    "    if should_print == 1:\n",
    "        print(\" **** Greedy Algorithm ***\")\n",
    "        print(\"\")\n",
    "        print(\"\")\n",
    "        G_final=nx.Graph()\n",
    "        for i in range(n-1):\n",
    "            G_final.add_edge(tour[i],tour[i+1])\n",
    "        G_final.add_edge(tour[0],tour[n-1])\n",
    "\n",
    "            \n",
    "        #nx.draw_networkx_labels(G_final,pos,node_size=100,label=range(n))\n",
    "        nx.draw_networkx(G_final,pos)\n",
    "        plt.show()\n",
    "\n",
    "# uncomment this if you want the tour and its cost to be output\n",
    "            \n",
    "#    print (\"The greedy tour is %s and its total length is %f\" % (tour,length_tour))\n",
    "#    print(\"Running time of the greedy algorithm: %s seconds\" % final_time) \n",
    "#    print(\"\")\n",
    "    print(\"Running time of Greedy: %s seconds\" % final_time)\n",
    "    \n",
    "    return length_tour,tour # returns the total weight of the tour\n",
    "\n",
    "    \n"
   ]
  },
  {
   "cell_type": "code",
   "execution_count": 31,
   "metadata": {},
   "outputs": [
    {
     "name": "stdout",
     "output_type": "stream",
     "text": [
      " **** Greedy Algorithm ***\n",
      "\n",
      "\n"
     ]
    },
    {
     "data": {
      "image/png": "[encoded data removed]",
      "text/plain": [
       "<Figure size 432x288 with 1 Axes>"
      ]
     },
     "metadata": {},
     "output_type": "display_data"
    },
    {
     "name": "stdout",
     "output_type": "stream",
     "text": [
      "Running time of Greedy: 0.00015997886657714844 seconds\n"
     ]
    },
    {
     "data": {
      "text/plain": [
       "(2.436448578700324, [0, 8, 1, 9, 5, 7, 3, 6, 2, 4])"
      ]
     },
     "execution_count": 31,
     "metadata": {},
     "output_type": "execute_result"
    }
   ],
   "source": [
    "run_greedy_TSP(G10[0],G10[1],1)"
   ]
  },
  {
   "cell_type": "code",
   "execution_count": 4,
   "metadata": {},
   "outputs": [],
   "source": [
    "# tabu search\n",
    "#参考https://github.com/TheAlgorithms/Python/blob/master/searches/tabu_search.py\n",
    "#first solution: obtained by greedy\n",
    "\n",
    "def get_neighbor(G):\n",
    "    \n",
    "    neighbor_dict={}\n",
    "    for n in list(G.nodes()):\n",
    "        temp=[]\n",
    "        \n",
    "        n_neighbor=list(G.neighbors(n))\n",
    "        for i in n_neighbor:\n",
    "            w=G[n][i]['weight']\n",
    "            temp.append([i,w])\n",
    "        neighbor_dict[n]=temp\n",
    "        \n",
    "    return neighbor_dict\n",
    "\n",
    "def find_neighborhood(solution, dict_of_neighbours):\n",
    "\n",
    "\n",
    "    neighborhood_of_solution = []\n",
    "\n",
    "    for n in solution[1:-1]:\n",
    "        idx1 = solution.index(n)\n",
    "        for kn in solution[1:-1]:\n",
    "            idx2 = solution.index(kn)\n",
    "            if n == kn:\n",
    "                continue\n",
    "\n",
    "            _tmp = copy.deepcopy(solution)\n",
    "            _tmp[idx1] = kn\n",
    "            _tmp[idx2] = n\n",
    "\n",
    "            distance = 0\n",
    "\n",
    "            for k in _tmp[:-1]:\n",
    "                next_node = _tmp[_tmp.index(k) + 1]\n",
    "                for i in dict_of_neighbours[k]:\n",
    "                    if i[0] == next_node:\n",
    "                        distance = distance + i[1]\n",
    "            _tmp.append(distance)\n",
    "\n",
    "            if _tmp not in neighborhood_of_solution:\n",
    "                neighborhood_of_solution.append(_tmp)\n",
    "\n",
    "    indexOfLastItemInTheList = len(neighborhood_of_solution[0]) - 1\n",
    "\n",
    "    neighborhood_of_solution.sort(key=lambda x: x[indexOfLastItemInTheList])\n",
    "    return neighborhood_of_solution\n",
    "\n",
    "\n",
    "#find_neighborhood(run_greedy_TSP(tempG[0],tempG[1],0)[1],get_neighbor(tempG[0]))"
   ]
  },
  {
   "cell_type": "code",
   "execution_count": 39,
   "metadata": {},
   "outputs": [],
   "source": [
    "def tabu_search(first_solution, dict_of_neighbours, iters, size):\n",
    "    start_time = time.time()\n",
    "    count=1\n",
    "    solution=first_solution[1]\n",
    "    tabu_list=[]\n",
    "    best_cost=first_solution[0]\n",
    "    ultimate_best_cost = solution\n",
    "\n",
    "    while count <= iters:\n",
    "        neighborhood = find_neighborhood(solution, dict_of_neighbours)\n",
    "        index_of_best_solution = 0\n",
    "        best_solution = neighborhood[index_of_best_solution]\n",
    "        best_cost_index = len(best_solution) - 1\n",
    "\n",
    "        found = False\n",
    "        while not found:\n",
    "            i = 0\n",
    "            while i < len(best_solution):\n",
    "\n",
    "                if best_solution[i] != solution[i]:\n",
    "                    first_exchange_node = best_solution[i]\n",
    "                    second_exchange_node = solution[i]\n",
    "                    break\n",
    "                i = i + 1\n",
    "\n",
    "            if [first_exchange_node, second_exchange_node] not in tabu_list and [\n",
    "                second_exchange_node,\n",
    "                first_exchange_node,\n",
    "            ] not in tabu_list:\n",
    "                tabu_list.append([first_exchange_node, second_exchange_node])\n",
    "                found = True\n",
    "                solution = best_solution[:-1]\n",
    "                cost = neighborhood[index_of_best_solution][best_cost_index]\n",
    "                if cost < best_cost:\n",
    "                    best_cost = cost\n",
    "                    ultimate_best_solution = solution\n",
    "            else:\n",
    "                index_of_best_solution = index_of_best_solution + 1\n",
    "                best_solution = neighborhood[index_of_best_solution]\n",
    "\n",
    "        if len(tabu_list) >= size:\n",
    "            tabu_list.pop(0)\n",
    "\n",
    "        count = count + 1\n",
    "    '''\n",
    "    G_final=nx.Graph()\n",
    "    for i in range(25-1):\n",
    "        G_final.add_edge(ultimate_best_solution[i],ultimate_best_solution[i+1])\n",
    "    G_final.add_edge(ultimate_best_solution[0],ultimate_best_solution[25-1])\n",
    "\n",
    "\n",
    "    nx.draw_networkx(G_final,G25[1])\n",
    "    plt.show()\n",
    "    '''\n",
    "    \n",
    "    print(\"Running time of Tabu Search: %s seconds\" % (time.time() - start_time))\n",
    "    return best_cost, ultimate_best_solution\n",
    "\n"
   ]
  },
  {
   "cell_type": "code",
   "execution_count": 33,
   "metadata": {},
   "outputs": [],
   "source": [
    "def SO_tabu_search(first_solution, dict_of_neighbours,  size):\n",
    "    start_time = time.time()\n",
    "    count=1\n",
    "    iters=15\n",
    "    solution=first_solution[1]\n",
    "    tabu_list=[]\n",
    "    best_cost=first_solution[0]\n",
    "    ultimate_best_cost = solution\n",
    "    \n",
    "    prev_cost=best_cost\n",
    "    \n",
    "    while 1 <= iters:\n",
    "        neighborhood = find_neighborhood(solution, dict_of_neighbours)\n",
    "        index_of_best_solution = 0\n",
    "        best_solution = neighborhood[index_of_best_solution]\n",
    "        best_cost_index = len(best_solution) - 1\n",
    "\n",
    "        found = False\n",
    "        while not found:\n",
    "            i = 0\n",
    "            while i < len(best_solution):\n",
    "\n",
    "                if best_solution[i] != solution[i]:\n",
    "                    first_exchange_node = best_solution[i]\n",
    "                    second_exchange_node = solution[i]\n",
    "                    break\n",
    "                i = i + 1\n",
    "\n",
    "            if [first_exchange_node, second_exchange_node] not in tabu_list and [\n",
    "                second_exchange_node,\n",
    "                first_exchange_node,\n",
    "            ] not in tabu_list:\n",
    "                tabu_list.append([first_exchange_node, second_exchange_node])\n",
    "                found = True\n",
    "                solution = best_solution[:-1]\n",
    "                cost = neighborhood[index_of_best_solution][best_cost_index]\n",
    "                if cost < best_cost:\n",
    "                    \n",
    "                    best_cost = cost\n",
    "                    ultimate_best_solution = solution\n",
    "            else:\n",
    "                index_of_best_solution = index_of_best_solution + 1\n",
    "                best_solution = neighborhood[index_of_best_solution]\n",
    "\n",
    "        if len(tabu_list) >= size:\n",
    "            tabu_list.pop(0)\n",
    "        if best_cost<prev_cost:\n",
    "            iters = iters+5 \n",
    "        else:\n",
    "            iters = iters-5\n",
    "        count=count+1\n",
    "        \n",
    "        prev_cost=best_cost\n",
    "    print(\"Running time of SO Tabu Search: %s seconds\" % (time.time() - start_time))\n",
    "    print(\"SO Final iter count = \", count)\n",
    "    return best_cost, ultimate_best_solution\n",
    "\n",
    "\n"
   ]
  },
  {
   "cell_type": "code",
   "execution_count": 18,
   "metadata": {},
   "outputs": [
    {
     "name": "stdout",
     "output_type": "stream",
     "text": [
      "test 10 nodes\n",
      "Running time of Greedy: 0.00012111663818359375 seconds\n",
      "greedy solution:  2.436448578700324\n",
      "Running time of Tabu: 0.006246805191040039 seconds\n",
      "tabu solution 5 iter: 2.104198523283667\n",
      "Running time of SO Tabu Search: 0.00810694694519043 seconds\n",
      "SO Final iter count =  6\n",
      "SO tabu solution: 2.104198523283667\n"
     ]
    }
   ],
   "source": [
    "print(\"test 10 nodes\")\n",
    "G10=twod_instance(10,0)\n",
    "dict_neighbor=get_neighbor(G10[0])\n",
    "first=run_greedy_TSP(G10[0],G10[1],0)\n",
    "print(\"greedy solution: \",first[0])\n",
    "print(\"tabu solution 5 iter:\",tabu_search(first,dict_neighbor,5,10)[0])\n",
    "print(\"SO tabu solution:\",SO_tabu_search(first,dict_neighbor,10)[0])"
   ]
  },
  {
   "cell_type": "code",
   "execution_count": 41,
   "metadata": {},
   "outputs": [
    {
     "name": "stdout",
     "output_type": "stream",
     "text": [
      "test 25 nodes\n",
      " **** Greedy Algorithm ***\n",
      "\n",
      "\n"
     ]
    },
    {
     "data": {
      "image/png": "[encoded data removed]",
      "text/plain": [
       "<Figure size 432x288 with 1 Axes>"
      ]
     },
     "metadata": {},
     "output_type": "display_data"
    },
    {
     "name": "stdout",
     "output_type": "stream",
     "text": [
      "Running time of Greedy: 0.000644683837890625 seconds\n",
      "greedy solution:  4.408062114714442\n"
     ]
    },
    {
     "data": {
      "image/png": "[encoded data removed]",
      "text/plain": [
       "<Figure size 432x288 with 1 Axes>"
      ]
     },
     "metadata": {},
     "output_type": "display_data"
    },
    {
     "name": "stdout",
     "output_type": "stream",
     "text": [
      "Running time of Tabu Search: 0.5615091323852539 seconds\n",
      "tabu solution 13 iter: 3.9018573388296534\n",
      "Running time of SO Tabu Search: 0.22116589546203613 seconds\n",
      "SO Final iter count =  8\n",
      "SO tabu solution: 3.9018573388296534\n"
     ]
    }
   ],
   "source": [
    "print(\"test 25 nodes\")\n",
    "G25=twod_instance(25,0)\n",
    "dict_neighbor=get_neighbor(G25[0])\n",
    "first=run_greedy_TSP(G25[0],G25[1],1)\n",
    "print(\"greedy solution: \",first[0])\n",
    "print(\"tabu solution 13 iter:\",tabu_search(first,dict_neighbor,13,10)[0])\n",
    "print(\"SO tabu solution:\",SO_tabu_search(first,dict_neighbor,10)[0])"
   ]
  },
  {
   "cell_type": "markdown",
   "metadata": {},
   "source": [
    "#### 改良： strategic oscillation\n",
    "\n",
    "Strategic oscillation operates by orienting moves in relation to a critical\n",
    "level, as identified by a stage of construction or a chosen interval of\n",
    "functional values. Such a critical level or oscillation boundary often\n",
    "represents a point where the method would normally stop. \n",
    "\n",
    "这里stop condition 是 reach max iterations。\n",
    "可以先set max iterrations为小一点的数，\n",
    "iter几轮之后（比如max iter数的几分之一？），check当前best solution，重复：\n",
    "    如果和上一次iter没差多少，则剩余的iters数量减少\n",
    "    如果和上一次iter进步很多，则剩余的iters数量增加\n",
    "应该会渐渐趋于减少iters数，然后到达while loop的停止条件（15个nodes的图，50iter和100iter结果一样）\n",
    "优化改良运算时间\n",
    "    \n",
    "    \n"
   ]
  },
  {
   "cell_type": "code",
   "execution_count": 20,
   "metadata": {},
   "outputs": [
    {
     "name": "stdout",
     "output_type": "stream",
     "text": [
      "test 50 nodes\n",
      "Running time of Greedy: 0.0027527809143066406 seconds\n",
      "greedy solution:  6.643467735123205\n",
      "Running time of Tabu: 11.596192121505737 seconds\n",
      "tabu solution 25 iter: 5.9831792558512795\n",
      "Running time of SO Tabu Search: 5.04876708984375 seconds\n",
      "SO Final iter count =  12\n",
      "SO tabu solution: 5.9831792558512795\n"
     ]
    }
   ],
   "source": [
    "\n",
    "print(\"test 50 nodes\")\n",
    "G50=twod_instance(50,0)\n",
    "dict_neighbor=get_neighbor(G50[0])\n",
    "first=run_greedy_TSP(G50[0],G50[1],0)\n",
    "print(\"greedy solution: \",first[0])\n",
    "print(\"tabu solution 25 iter:\",tabu_search(first,dict_neighbor,25,10)[0])\n",
    "print(\"SO tabu solution:\",SO_tabu_search(first,dict_neighbor,10)[0])"
   ]
  },
  {
   "cell_type": "code",
   "execution_count": 22,
   "metadata": {},
   "outputs": [
    {
     "name": "stdout",
     "output_type": "stream",
     "text": [
      "test 100 nodes\n",
      "Running time of Greedy: 0.016812801361083984 seconds\n",
      "greedy solution:  9.599329130545593\n",
      "Running time of Tabu: 389.98048210144043 seconds\n",
      "tabu solution 50 iter: 8.647417343411501\n",
      "Running time of SO Tabu Search: 55.10982394218445 seconds\n",
      "SO Final iter count =  8\n",
      "SO tabu solution: 8.647417343411501\n"
     ]
    }
   ],
   "source": [
    "print(\"test 100 nodes\")\n",
    "G100=twod_instance(100,0)\n",
    "dict_neighbor=get_neighbor(G100[0])\n",
    "first=run_greedy_TSP(G100[0],G100[1],0)\n",
    "print(\"greedy solution: \",first[0])\n",
    "print(\"tabu solution 50 iter:\",tabu_search(first,dict_neighbor,50,10)[0])\n",
    "print(\"SO tabu solution:\",SO_tabu_search(first,dict_neighbor,10)[0])"
   ]
  },
  {
   "cell_type": "code",
   "execution_count": null,
   "metadata": {},
   "outputs": [],
   "source": []
  }
 ],
 "metadata": {
  "kernelspec": {
   "display_name": "Python 3",
   "language": "python",
   "name": "python3"
  },
  "language_info": {
   "codemirror_mode": {
    "name": "ipython",
    "version": 3
   },
   "file_extension": ".py",
   "mimetype": "text/x-python",
   "name": "python",
   "nbconvert_exporter": "python",
   "pygments_lexer": "ipython3",
   "version": "3.8.5"
  }
 },
 "nbformat": 4,
 "nbformat_minor": 4
}
